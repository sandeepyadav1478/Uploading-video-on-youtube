{
  "nbformat": 4,
  "nbformat_minor": 0,
  "metadata": {
    "colab": {
      "name": "yv3.ipynb",
      "provenance": [],
      "collapsed_sections": []
    },
    "kernelspec": {
      "name": "python3",
      "display_name": "Python 3"
    },
    "language_info": {
      "name": "python"
    }
  },
  "cells": [
    {
      "cell_type": "markdown",
      "metadata": {
        "id": "OreIfALxPXYx"
      },
      "source": [
        "###From drive to youtube video upload"
      ]
    },
    {
      "cell_type": "markdown",
      "metadata": {
        "id": "DNzqORGyPkVs"
      },
      "source": [
        "####Required packages"
      ]
    },
    {
      "cell_type": "code",
      "metadata": {
        "colab": {
          "base_uri": "https://localhost:8080/"
        },
        "id": "OpFsKlaLE7Pf",
        "outputId": "24ccadc2-1e6c-4976-9049-301792d411e7"
      },
      "source": [
        "!pip install --upgrade google-api-python-client google-auth-httplib2 google-auth-oauthlib"
      ],
      "execution_count": 1,
      "outputs": [
        {
          "output_type": "stream",
          "text": [
            "Requirement already satisfied: google-api-python-client in /usr/local/lib/python3.7/dist-packages (1.12.8)\n",
            "Collecting google-api-python-client\n",
            "  Downloading google_api_python_client-2.15.0-py2.py3-none-any.whl (7.2 MB)\n",
            "\u001b[K     |████████████████████████████████| 7.2 MB 15.8 MB/s \n",
            "\u001b[?25hRequirement already satisfied: google-auth-httplib2 in /usr/local/lib/python3.7/dist-packages (0.0.4)\n",
            "Collecting google-auth-httplib2\n",
            "  Downloading google_auth_httplib2-0.1.0-py2.py3-none-any.whl (9.3 kB)\n",
            "Requirement already satisfied: google-auth-oauthlib in /usr/local/lib/python3.7/dist-packages (0.4.4)\n",
            "Collecting google-auth-oauthlib\n",
            "  Downloading google_auth_oauthlib-0.4.5-py2.py3-none-any.whl (18 kB)\n",
            "Requirement already satisfied: google-api-core<3.0.0dev,>=1.21.0 in /usr/local/lib/python3.7/dist-packages (from google-api-python-client) (1.26.3)\n",
            "Requirement already satisfied: uritemplate<4dev,>=3.0.0 in /usr/local/lib/python3.7/dist-packages (from google-api-python-client) (3.0.1)\n",
            "Requirement already satisfied: google-auth<3.0.0dev,>=1.16.0 in /usr/local/lib/python3.7/dist-packages (from google-api-python-client) (1.32.1)\n",
            "Requirement already satisfied: httplib2<1dev,>=0.15.0 in /usr/local/lib/python3.7/dist-packages (from google-api-python-client) (0.17.4)\n",
            "Requirement already satisfied: six in /usr/local/lib/python3.7/dist-packages (from google-auth-httplib2) (1.15.0)\n",
            "Requirement already satisfied: pytz in /usr/local/lib/python3.7/dist-packages (from google-api-core<3.0.0dev,>=1.21.0->google-api-python-client) (2018.9)\n",
            "Requirement already satisfied: googleapis-common-protos<2.0dev,>=1.6.0 in /usr/local/lib/python3.7/dist-packages (from google-api-core<3.0.0dev,>=1.21.0->google-api-python-client) (1.53.0)\n",
            "Requirement already satisfied: requests<3.0.0dev,>=2.18.0 in /usr/local/lib/python3.7/dist-packages (from google-api-core<3.0.0dev,>=1.21.0->google-api-python-client) (2.23.0)\n",
            "Requirement already satisfied: packaging>=14.3 in /usr/local/lib/python3.7/dist-packages (from google-api-core<3.0.0dev,>=1.21.0->google-api-python-client) (21.0)\n",
            "Requirement already satisfied: setuptools>=40.3.0 in /usr/local/lib/python3.7/dist-packages (from google-api-core<3.0.0dev,>=1.21.0->google-api-python-client) (57.2.0)\n",
            "Requirement already satisfied: protobuf>=3.12.0 in /usr/local/lib/python3.7/dist-packages (from google-api-core<3.0.0dev,>=1.21.0->google-api-python-client) (3.17.3)\n",
            "Requirement already satisfied: rsa<5,>=3.1.4 in /usr/local/lib/python3.7/dist-packages (from google-auth<3.0.0dev,>=1.16.0->google-api-python-client) (4.7.2)\n",
            "Requirement already satisfied: cachetools<5.0,>=2.0.0 in /usr/local/lib/python3.7/dist-packages (from google-auth<3.0.0dev,>=1.16.0->google-api-python-client) (4.2.2)\n",
            "Requirement already satisfied: pyasn1-modules>=0.2.1 in /usr/local/lib/python3.7/dist-packages (from google-auth<3.0.0dev,>=1.16.0->google-api-python-client) (0.2.8)\n",
            "Requirement already satisfied: pyparsing>=2.0.2 in /usr/local/lib/python3.7/dist-packages (from packaging>=14.3->google-api-core<3.0.0dev,>=1.21.0->google-api-python-client) (2.4.7)\n",
            "Requirement already satisfied: pyasn1<0.5.0,>=0.4.6 in /usr/local/lib/python3.7/dist-packages (from pyasn1-modules>=0.2.1->google-auth<3.0.0dev,>=1.16.0->google-api-python-client) (0.4.8)\n",
            "Requirement already satisfied: idna<3,>=2.5 in /usr/local/lib/python3.7/dist-packages (from requests<3.0.0dev,>=2.18.0->google-api-core<3.0.0dev,>=1.21.0->google-api-python-client) (2.10)\n",
            "Requirement already satisfied: urllib3!=1.25.0,!=1.25.1,<1.26,>=1.21.1 in /usr/local/lib/python3.7/dist-packages (from requests<3.0.0dev,>=2.18.0->google-api-core<3.0.0dev,>=1.21.0->google-api-python-client) (1.24.3)\n",
            "Requirement already satisfied: chardet<4,>=3.0.2 in /usr/local/lib/python3.7/dist-packages (from requests<3.0.0dev,>=2.18.0->google-api-core<3.0.0dev,>=1.21.0->google-api-python-client) (3.0.4)\n",
            "Requirement already satisfied: certifi>=2017.4.17 in /usr/local/lib/python3.7/dist-packages (from requests<3.0.0dev,>=2.18.0->google-api-core<3.0.0dev,>=1.21.0->google-api-python-client) (2021.5.30)\n",
            "Requirement already satisfied: requests-oauthlib>=0.7.0 in /usr/local/lib/python3.7/dist-packages (from google-auth-oauthlib) (1.3.0)\n",
            "Requirement already satisfied: oauthlib>=3.0.0 in /usr/local/lib/python3.7/dist-packages (from requests-oauthlib>=0.7.0->google-auth-oauthlib) (3.1.1)\n",
            "Installing collected packages: google-auth-httplib2, google-auth-oauthlib, google-api-python-client\n",
            "  Attempting uninstall: google-auth-httplib2\n",
            "    Found existing installation: google-auth-httplib2 0.0.4\n",
            "    Uninstalling google-auth-httplib2-0.0.4:\n",
            "      Successfully uninstalled google-auth-httplib2-0.0.4\n",
            "  Attempting uninstall: google-auth-oauthlib\n",
            "    Found existing installation: google-auth-oauthlib 0.4.4\n",
            "    Uninstalling google-auth-oauthlib-0.4.4:\n",
            "      Successfully uninstalled google-auth-oauthlib-0.4.4\n",
            "  Attempting uninstall: google-api-python-client\n",
            "    Found existing installation: google-api-python-client 1.12.8\n",
            "    Uninstalling google-api-python-client-1.12.8:\n",
            "      Successfully uninstalled google-api-python-client-1.12.8\n",
            "\u001b[31mERROR: pip's dependency resolver does not currently take into account all the packages that are installed. This behaviour is the source of the following dependency conflicts.\n",
            "earthengine-api 0.1.272 requires google-api-python-client<2,>=1.12.1, but you have google-api-python-client 2.15.0 which is incompatible.\u001b[0m\n",
            "Successfully installed google-api-python-client-2.15.0 google-auth-httplib2-0.1.0 google-auth-oauthlib-0.4.5\n"
          ],
          "name": "stdout"
        }
      ]
    },
    {
      "cell_type": "markdown",
      "metadata": {
        "id": "U5lsNdYAPrWN"
      },
      "source": [
        "#### Copying file from drive to colab"
      ]
    },
    {
      "cell_type": "code",
      "metadata": {
        "id": "Z2tGBKbQIH-H"
      },
      "source": [
        "!cp '/content/drive/MyDrive/Comp final BIGGER.mp4' '/content/'"
      ],
      "execution_count": 2,
      "outputs": []
    },
    {
      "cell_type": "markdown",
      "metadata": {
        "id": "r-Lzp1WIPzQt"
      },
      "source": [
        "####Now uploading file to youtube"
      ]
    },
    {
      "cell_type": "markdown",
      "metadata": {
        "id": "vMdy3eFyP7UV"
      },
      "source": [
        " *'#' in following code notifies important changes*"
      ]
    },
    {
      "cell_type": "code",
      "metadata": {
        "colab": {
          "base_uri": "https://localhost:8080/"
        },
        "id": "nTakL6PeFCBw",
        "outputId": "84a28d64-afc5-4175-fdf4-9366718dedd1"
      },
      "source": [
        "import datetime\n",
        "from googleapiclient.http import MediaFileUpload\n",
        "import pickle\n",
        "import os\n",
        "from google_auth_oauthlib.flow import Flow, InstalledAppFlow\n",
        "from googleapiclient.discovery import build\n",
        "from googleapiclient.http import MediaFileUpload, MediaIoBaseDownload\n",
        "from google.auth.transport.requests import Request\n",
        "import datetime\n",
        "\n",
        "CLIENT_SECRET_FILE = '/content/client_secret.json'  #\n",
        "API_NAME = 'youtube'\n",
        "API_VERSION = 'v3'\n",
        "SCOPES = ['https://www.googleapis.com/auth/youtube.upload']\n",
        "\n",
        "\n",
        "\n",
        "def Create_Service(client_secret_file, api_name, api_version, *scopes):\n",
        "    print(client_secret_file, api_name, api_version, scopes, sep='-')\n",
        "    CLIENT_SECRET_FILE = client_secret_file\n",
        "    API_SERVICE_NAME = api_name\n",
        "    API_VERSION = api_version\n",
        "    SCOPES = [scope for scope in scopes[0]]\n",
        "    print(SCOPES)\n",
        "\n",
        "    cred = None\n",
        "\n",
        "    pickle_file = f'token_{API_SERVICE_NAME}_{API_VERSION}.pickle'\n",
        "    # print(pickle_file)\n",
        "\n",
        "    if os.path.exists(pickle_file):\n",
        "        with open(pickle_file, 'rb') as token:\n",
        "            cred = pickle.load(token)\n",
        "\n",
        "    if not cred or not cred.valid:\n",
        "        if cred and cred.expired and cred.refresh_token:\n",
        "            cred.refresh(Request())\n",
        "        else:\n",
        "            flow = InstalledAppFlow.from_client_secrets_file(CLIENT_SECRET_FILE, SCOPES)\n",
        "            cred = flow.run_local_server()\n",
        "\n",
        "        with open(pickle_file, 'wb') as token:\n",
        "            pickle.dump(cred, token)\n",
        "\n",
        "    try:\n",
        "        service = build(API_SERVICE_NAME, API_VERSION, credentials=cred)\n",
        "        print(API_SERVICE_NAME, 'service created successfully')\n",
        "        return service\n",
        "    except Exception as e:\n",
        "        print('Unable to connect.')\n",
        "        print(e)\n",
        "        return None\n",
        "\n",
        "def convert_to_RFC_datetime(year=1900, month=1, day=1, hour=0, minute=0):\n",
        "    dt = datetime.datetime(year, month, day, hour, minute, 0).isoformat() + 'Z'\n",
        "    return dt\n",
        "\n",
        "\n",
        "service = Create_Service(CLIENT_SECRET_FILE, API_NAME, API_VERSION, SCOPES)\n",
        "\n",
        "upload_date_time = datetime.datetime(2021, 8, 7, 2, 3, 0).isoformat() + '.000Z' #\n",
        "\n",
        "request_body = {\n",
        "    'snippet': {\n",
        "        'categoryI': 19,\n",
        "        'title': \"Brother's wedding invitation\",\n",
        "        'description': 'sdasdHello World Description',\n",
        "        'tags': ['Travel', 'video test', 'Travel Tips','wedding invitation']\n",
        "    },\n",
        "    'status': {\n",
        "        'privacyStatus': 'public', #\n",
        "        # 'publishAt': upload_date_time,  #this only works for private videos\n",
        "        'selfDeclaredMadeForKids': False, \n",
        "    },\n",
        "    'notifySubscribers': False #\n",
        "}\n",
        "\n",
        "mediaFile = MediaFileUpload('/content/comp_final_bigger.mp4')  ##\n",
        "\n",
        "response_upload = service.videos().insert(\n",
        "    part='snippet,status',\n",
        "    body=request_body,\n",
        "    media_body=mediaFile\n",
        ").execute()\n",
        "\n",
        "\n",
        "service.thumbnails().set(\n",
        "    videoId=response_upload.get('id'),\n",
        "    media_body=MediaFileUpload('thumbnail.png')   ##\n",
        ").execute()"
      ],
      "execution_count": 10,
      "outputs": [
        {
          "output_type": "stream",
          "text": [
            "/content/client_secret.json-youtube-v3-(['https://www.googleapis.com/auth/youtube.upload'],)\n",
            "['https://www.googleapis.com/auth/youtube.upload']\n",
            "youtube service created successfully\n"
          ],
          "name": "stdout"
        },
        {
          "output_type": "execute_result",
          "data": {
            "text/plain": [
              "{'etag': 'MA12JHmh6aG4-41GvbpMJLIXlNA',\n",
              " 'items': [{'default': {'height': 90,\n",
              "    'url': 'https://i.ytimg.com/vi/PP3fKIaAdnM/default.jpg',\n",
              "    'width': 120},\n",
              "   'high': {'height': 360,\n",
              "    'url': 'https://i.ytimg.com/vi/PP3fKIaAdnM/hqdefault.jpg',\n",
              "    'width': 480},\n",
              "   'maxres': {'height': 720,\n",
              "    'url': 'https://i.ytimg.com/vi/PP3fKIaAdnM/maxresdefault.jpg',\n",
              "    'width': 1280},\n",
              "   'medium': {'height': 180,\n",
              "    'url': 'https://i.ytimg.com/vi/PP3fKIaAdnM/mqdefault.jpg',\n",
              "    'width': 320},\n",
              "   'standard': {'height': 480,\n",
              "    'url': 'https://i.ytimg.com/vi/PP3fKIaAdnM/sddefault.jpg',\n",
              "    'width': 640}}],\n",
              " 'kind': 'youtube#thumbnailSetResponse'}"
            ]
          },
          "metadata": {
            "tags": []
          },
          "execution_count": 10
        }
      ]
    }
  ]
}